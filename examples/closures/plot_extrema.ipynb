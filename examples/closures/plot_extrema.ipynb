{
 "cells": [
  {
   "cell_type": "markdown",
   "metadata": {},
   "source": [
    "# Plotting fiber orientation tensors and closure."
   ]
  },
  {
   "cell_type": "code",
   "execution_count": 6,
   "metadata": {},
   "outputs": [],
   "source": [
    "%matplotlib widget\n",
    "import matplotlib.pyplot as plt\n",
    "import numpy as np\n",
    "from mpl_toolkits.mplot3d import Axes3D\n",
    "\n",
    "from fiberoripy.closures import (\n",
    "    IBOF_closure,\n",
    "    compute_closure,\n",
    "    hybrid_closure,\n",
    "    linear_closure,\n",
    "    quadratic_closure,\n",
    ")\n",
    "from fiberoripy.tensorplot import (\n",
    "    plot_orbit2,\n",
    "    plot_orbit4,\n",
    "    plot_projection2,\n",
    "    plot_projection4,\n",
    ")"
   ]
  },
  {
   "cell_type": "code",
   "execution_count": 7,
   "metadata": {},
   "outputs": [],
   "source": [
    "# define second order fiber orientation tensor\n",
    "a_iso = 1.0 / 3.0 * np.eye(3)\n",
    "a_uni = np.array([[0.9,0,0],[0,0.05, 0],[0,0,0.05]])\n",
    "a_pln = np.array([[0.4,0,0],[0,0.4, 0],[0,0,0.1]])\n",
    "\n",
    "# create a fourth order fiber orientation tensor\n",
    "A_iso = compute_closure(a_iso, \"RANDOM\", N=1000)\n",
    "A_uni = compute_closure(a_uni, \"RANDOM\", N=1000)\n",
    "A_pln = compute_closure(a_pln, \"RANDOM\", N=1000)"
   ]
  },
  {
   "cell_type": "code",
   "execution_count": 8,
   "metadata": {},
   "outputs": [
    {
     "data": {
      "application/vnd.jupyter.widget-view+json": {
       "model_id": "c0cda56a1ba24767bcdea61fe88b0ce0",
       "version_major": 2,
       "version_minor": 0
      },
      "text/plain": [
       "Canvas(toolbar=Toolbar(toolitems=[('Home', 'Reset original view', 'home', 'home'), ('Back', 'Back to previous …"
      ]
     },
     "metadata": {},
     "output_type": "display_data"
    }
   ],
   "source": [
    "# Second order tensor plot (isotropic)\n",
    "fig = plt.figure(figsize=(12, 8))\n",
    "\n",
    "ax = fig.add_subplot(111, projection=Axes3D.name)\n",
    "plotargs = {\"color\":[0,0.588,0.510], \"rstride\":1, \"cstride\":1}\n",
    "plot_orbit2(ax, plotargs, a_iso)\n",
    "\n",
    "plt.show()"
   ]
  },
  {
   "cell_type": "code",
   "execution_count": 9,
   "metadata": {},
   "outputs": [
    {
     "data": {
      "application/vnd.jupyter.widget-view+json": {
       "model_id": "a068c1bac933407e85cfeafc878abfa2",
       "version_major": 2,
       "version_minor": 0
      },
      "text/plain": [
       "Canvas(toolbar=Toolbar(toolitems=[('Home', 'Reset original view', 'home', 'home'), ('Back', 'Back to previous …"
      ]
     },
     "metadata": {},
     "output_type": "display_data"
    }
   ],
   "source": [
    "# Second order tensor plot (unidirectional)\n",
    "fig = plt.figure(figsize=(12, 8))\n",
    "\n",
    "ax = fig.add_subplot(111, projection=Axes3D.name)\n",
    "plotargs = {\"color\":[0,0.588,0.510], \"rstride\":1, \"cstride\":1}\n",
    "plot_orbit2(ax, plotargs, a_uni)\n",
    "\n",
    "plt.show()"
   ]
  },
  {
   "cell_type": "code",
   "execution_count": 10,
   "metadata": {},
   "outputs": [
    {
     "data": {
      "application/vnd.jupyter.widget-view+json": {
       "model_id": "255afa45299d44b68bb29a2080ddf384",
       "version_major": 2,
       "version_minor": 0
      },
      "text/plain": [
       "Canvas(toolbar=Toolbar(toolitems=[('Home', 'Reset original view', 'home', 'home'), ('Back', 'Back to previous …"
      ]
     },
     "metadata": {},
     "output_type": "display_data"
    }
   ],
   "source": [
    "# Second order tensor plot (planar)\n",
    "fig = plt.figure(figsize=(12, 8))\n",
    "\n",
    "ax = fig.add_subplot(111, projection=Axes3D.name)\n",
    "plotargs = {\"color\":[0,0.588,0.510], \"rstride\":4, \"cstride\":4}\n",
    "plot_orbit2(ax, plotargs, a_pln)\n",
    "\n",
    "plt.show()"
   ]
  },
  {
   "cell_type": "code",
   "execution_count": 10,
   "metadata": {},
   "outputs": [
    {
     "data": {
      "application/vnd.jupyter.widget-view+json": {
       "model_id": "9fca6f4e29b545feaab4909884f70fae",
       "version_major": 2,
       "version_minor": 0
      },
      "text/plain": [
       "Canvas(toolbar=Toolbar(toolitems=[('Home', 'Reset original view', 'home', 'home'), ('Back', 'Back to previous …"
      ]
     },
     "metadata": {},
     "output_type": "display_data"
    }
   ],
   "source": [
    "# Fourth order tensor plot\n",
    "fig = plt.figure(figsize=(12, 8))\n",
    "\n",
    "ax = fig.add_subplot(111, projection=Axes3D.name)\n",
    "plotargs = {\"color\":[0,0.588,0.510], \"rstride\":1, \"cstride\":1}\n",
    "plot_orbit4(ax, plotargs, A_iso)\n",
    "\n",
    "plt.show()"
   ]
  },
  {
   "cell_type": "code",
   "execution_count": null,
   "metadata": {},
   "outputs": [],
   "source": []
  }
 ],
 "metadata": {
  "kernelspec": {
   "display_name": "Python 3",
   "language": "python",
   "name": "python3"
  },
  "language_info": {
   "codemirror_mode": {
    "name": "ipython",
    "version": 3
   },
   "file_extension": ".py",
   "mimetype": "text/x-python",
   "name": "python",
   "nbconvert_exporter": "python",
   "pygments_lexer": "ipython3",
   "version": "3.9.0"
  }
 },
 "nbformat": 4,
 "nbformat_minor": 4
}
